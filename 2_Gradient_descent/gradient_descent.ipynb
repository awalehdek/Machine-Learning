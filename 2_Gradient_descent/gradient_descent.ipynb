{
 "cells": [
  {
   "cell_type": "code",
   "execution_count": 1,
   "metadata": {
    "colab": {
     "base_uri": "https://localhost:8080/"
    },
    "id": "L5EiCUC0l3-V",
    "outputId": "2bc175eb-e2ab-4ec4-af48-3f9111a4ea40"
   },
   "outputs": [],
   "source": [
    "import numpy as np\n",
    "import matplotlib.pyplot as plt\n"
   ]
  },
  {
   "cell_type": "code",
   "execution_count": 8,
   "metadata": {
    "id": "gHFafh4Um315"
   },
   "outputs": [
    {
     "data": {
      "text/plain": [
       "(2.000000768076431, 2.999997227000375)"
      ]
     },
     "execution_count": 8,
     "metadata": {},
     "output_type": "execute_result"
    }
   ],
   "source": [
    "def gradient_descent(x, y, learning_rate=0.04, iter=1000):\n",
    "    # set parameters m (slope) and b (intercept) \n",
    "    m = b = 0\n",
    "    #  iterations\n",
    "    iterations = 10\n",
    "    # Get the number of data points\n",
    "    n = len(x)\n",
    "    \n",
    "\n",
    "    # Perform gradient descent for a specified number of iterations\n",
    "    for i in range(iter):\n",
    "        # Calculate y predicted values using the current slope and intercept\n",
    "        y_predict = m * x + b\n",
    "\n",
    "        # cost fucntion or Mean Square Error\n",
    "        cost= (1/n) * sum((y_predict - y) ** 2)\n",
    "\n",
    "        # Gradient calculations\n",
    "            # derivative with respect to m\n",
    "        dm = (2/n) * sum(x * (y_predict - y))  \n",
    "            # derivative with respect to b\n",
    "        db = (2/n) * sum(y_predict - y)  \n",
    "        \n",
    "        # Updating \n",
    "        m = m - learning_rate * dm\n",
    "        b = b - learning_rate * db\n",
    "\n",
    "\n",
    "        print(f\"Iteration {i+1}: m = {m:.4f}, b = {b:.4f}, Cost = {cost:.4f}\")\n",
    "        \n",
    "    # Return the final values of m and b after all iterations\n",
    "    return m, b\n",
    "\n",
    "# Define the input features (x) and target values (y)\n",
    "x = np.array([1, 2, 3, 4, 5])\n",
    "y = np.array([5, 7, 9, 11, 13])\n",
    "\n",
    "# Call the gradient descent function and get the final slope and intercept\n",
    "gradient_descent(x, y)"
   ]
  },
  {
   "cell_type": "code",
   "execution_count": null,
   "metadata": {},
   "outputs": [],
   "source": []
  }
 ],
 "metadata": {
  "colab": {
   "provenance": []
  },
  "kernelspec": {
   "display_name": "your_virtual_environment",
   "language": "python",
   "name": "your_virtual_environment"
  },
  "language_info": {
   "codemirror_mode": {
    "name": "ipython",
    "version": 3
   },
   "file_extension": ".py",
   "mimetype": "text/x-python",
   "name": "python",
   "nbconvert_exporter": "python",
   "pygments_lexer": "ipython3",
   "version": "3.11.5"
  }
 },
 "nbformat": 4,
 "nbformat_minor": 4
}
