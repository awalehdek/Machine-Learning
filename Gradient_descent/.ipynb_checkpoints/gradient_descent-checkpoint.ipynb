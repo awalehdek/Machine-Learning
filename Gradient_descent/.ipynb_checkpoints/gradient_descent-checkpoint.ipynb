{
 "cells": [
  {
   "cell_type": "code",
   "execution_count": 1,
   "metadata": {
    "colab": {
     "base_uri": "https://localhost:8080/"
    },
    "id": "L5EiCUC0l3-V",
    "outputId": "2bc175eb-e2ab-4ec4-af48-3f9111a4ea40"
   },
   "outputs": [],
   "source": [
    "import numpy as np\n",
    "import matplotlib.pyplot as plt\n"
   ]
  },
  {
   "cell_type": "code",
   "execution_count": null,
   "metadata": {
    "id": "gHFafh4Um315"
   },
   "outputs": [],
   "source": [
    "def gradient_descent(x, y):\n",
    "    # set parameters m (slope) and b (intercept) \n",
    "    m = b = 0\n",
    "    #  iterations\n",
    "    iterations = 10\n",
    "    # Get the number of data points\n",
    "    n = len(x)\n",
    "    # Set the learning rate,\n",
    "    learning_rate = 0.09\n",
    "\n",
    "    # Perform gradient descent for a specified number of iterations\n",
    "    for i in range(iterations):\n",
    "        # Calculate y predicted values using the current slope and intercept\n",
    "        y_predicted = m * x + b\n",
    "\n",
    "    # Return the final values of m and b after all iterations\n",
    "    return m_curr, b_curr\n",
    "\n",
    "# Define the input features (x) and target values (y)\n",
    "x = np.array([1, 2, 3, 4, 5])\n",
    "y = np.array([5, 7, 9, 11, 13])\n",
    "\n",
    "# Call the gradient descent function and get the final slope and intercept\n",
    "gradient_descent(x, y)"
   ]
  },
  {
   "cell_type": "code",
   "execution_count": 2,
   "metadata": {},
   "outputs": [
    {
     "data": {
      "text/plain": [
       "2"
      ]
     },
     "execution_count": 2,
     "metadata": {},
     "output_type": "execute_result"
    }
   ],
   "source": [
    "1+1"
   ]
  },
  {
   "cell_type": "code",
   "execution_count": null,
   "metadata": {},
   "outputs": [],
   "source": [
    "Cost (MSE)=n1​i=1∑n​(y^​i​−yi​)2"
   ]
  }
 ],
 "metadata": {
  "colab": {
   "provenance": []
  },
  "kernelspec": {
   "display_name": "your_virtual_environment",
   "language": "python",
   "name": "your_virtual_environment"
  },
  "language_info": {
   "codemirror_mode": {
    "name": "ipython",
    "version": 3
   },
   "file_extension": ".py",
   "mimetype": "text/x-python",
   "name": "python",
   "nbconvert_exporter": "python",
   "pygments_lexer": "ipython3",
   "version": "3.11.5"
  }
 },
 "nbformat": 4,
 "nbformat_minor": 4
}
