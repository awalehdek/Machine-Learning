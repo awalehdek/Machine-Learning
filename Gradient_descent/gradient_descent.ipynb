{
  "nbformat": 4,
  "nbformat_minor": 0,
  "metadata": {
    "colab": {
      "provenance": []
    },
    "kernelspec": {
      "name": "python3",
      "display_name": "Python 3"
    },
    "language_info": {
      "name": "python"
    }
  },
  "cells": [
    {
      "cell_type": "code",
      "execution_count": 4,
      "metadata": {
        "colab": {
          "base_uri": "https://localhost:8080/"
        },
        "id": "L5EiCUC0l3-V",
        "outputId": "2bc175eb-e2ab-4ec4-af48-3f9111a4ea40"
      },
      "outputs": [
        {
          "output_type": "execute_result",
          "data": {
            "text/plain": [
              "(0, 0)"
            ]
          },
          "metadata": {},
          "execution_count": 4
        }
      ],
      "source": [
        "import numpy as np\n",
        "import matplotlib.pyplot as plt\n",
        "\n",
        "def gradient_descent(x, y):\n",
        "    # Initialize parameters m (slope) and b (intercept) to zero\n",
        "    m_curr = b_curr = 0\n",
        "    #  iterations\n",
        "    iterations = 10\n",
        "    # Get the number of data points\n",
        "    n = len(x)\n",
        "    # Set the learning rate,\n",
        "    learning_rate = 0.09\n",
        "\n",
        "    # Perform gradient descent for a specified number of iterations\n",
        "    for i in range(iterations):\n",
        "        # Calculate the predicted values using the current slope and intercept\n",
        "        y_predicted = m_curr * x + b_curr\n",
        "\n",
        "    # Return the final values of m and b after all iterations\n",
        "    return m_curr, b_curr\n",
        "\n",
        "# Define the input features (x) and target values (y)\n",
        "x = np.array([1, 2, 3, 4, 5])\n",
        "y = np.array([5, 7, 9, 11, 13])\n",
        "\n",
        "# Call the gradient descent function and get the final slope and intercept\n",
        "gradient_descent(x, y)\n",
        "\n"
      ]
    },
    {
      "cell_type": "code",
      "source": [],
      "metadata": {
        "id": "gHFafh4Um315"
      },
      "execution_count": null,
      "outputs": []
    }
  ]
}